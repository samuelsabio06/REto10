{
  "nbformat": 4,
  "nbformat_minor": 0,
  "metadata": {
    "colab": {
      "provenance": []
    },
    "kernelspec": {
      "name": "python3",
      "display_name": "Python 3"
    },
    "language_info": {
      "name": "python"
    }
  },
  "cells": [
    {
      "cell_type": "markdown",
      "source": [
        "#Suma de matrices"
      ],
      "metadata": {
        "id": "wr3mCljv4WPk"
      }
    },
    {
      "cell_type": "code",
      "execution_count": null,
      "metadata": {
        "colab": {
          "base_uri": "https://localhost:8080/"
        },
        "id": "Ufg_pLicsrx5",
        "outputId": "924c43c2-ee4c-4fd2-ab28-5a859430efa5"
      },
      "outputs": [
        {
          "output_type": "stream",
          "name": "stdout",
          "text": [
            "Ingrese el número de filas de la 1era matriz: 2\n",
            "Ingrese el número de columnas de la 1era matriz: 2\n",
            "Ingrese el número de filas de la 2da matriz: 2\n",
            "Ingrese el número de columnas de la 2da matriz: 2\n",
            "fila 1, columna 1: 2\n",
            "fila 1, columna 2: 2\n",
            "fila 2, columna 1: 2\n",
            "fila 2, columna 2: 2\n",
            "fila 1, columna 1: 2\n",
            "fila 1, columna 2: 2\n",
            "fila 2, columna 1: 2\n",
            "fila 2, columna 2: 2\n",
            "La suma de las matrices es:\n",
            "[4.0 4.0 ]\n",
            "[4.0 4.0 ]\n"
          ]
        }
      ],
      "source": [
        "def generar_matriz1(filas, columnas):\n",
        "    matriz = []\n",
        "    for i in range(filas):\n",
        "        matriz.append([])\n",
        "        for j in range(columnas):\n",
        "            datos = float(input('fila ' + str(i+1) + ', columna ' + str(j+1) + ': '))\n",
        "            matriz[i].append(datos)\n",
        "    return matriz\n",
        "\n",
        "def generar_matriz2(filas2, columnas2):\n",
        "    matriz = []\n",
        "    for i in range(filas2):\n",
        "        matriz.append([])\n",
        "        for j in range(columnas2):\n",
        "            datos = float(input('fila ' + str(i+1) + ', columna ' + str(j+1) + ': '))\n",
        "            matriz[i].append(datos)\n",
        "    return matriz\n",
        "\n",
        "def suma_matrix(m_a, m_b):\n",
        "    if len(m_a) == len(m_b) and len(m_a[0]) == len(m_b[0]): # Verificamos que las matrices tengan la misma cantidad de filas y columnas\n",
        "        m_c = [] # Se crea una matriz vacía donde se irán reemplazando los valores de la suma obtenidos\n",
        "        for i in range(len(m_a)):\n",
        "            m_c.append([]) # Creamos una fila\n",
        "            for j in range(len(m_a[0])):\n",
        "                m_c[i].append(m_a[i][j] + m_b[i][j]) # Para cada elemento de las filas se añade el valor de cada posición de las matrices\n",
        "        return m_c\n",
        "    else:\n",
        "        return None\n",
        "\n",
        "def imprimir_matriz(matriz):\n",
        "    for fila in matriz:\n",
        "        fila_ = '['\n",
        "        for elemento in fila:\n",
        "            fila_ += str(elemento) + ' '\n",
        "        fila_ += ']'\n",
        "        print(fila_)\n",
        "\n",
        "if __name__=='__main__':\n",
        "    filas = int(input('Ingrese el número de filas de la 1era matriz: ')) #pedimos los valores al usuario\n",
        "    columnas = int(input('Ingrese el número de columnas de la 1era matriz: '))\n",
        "\n",
        "    filas2 = int(input('Ingrese el número de filas de la 2da matriz: '))\n",
        "    columnas2 = int(input('Ingrese el número de columnas de la 2da matriz: '))\n",
        "\n",
        "    if filas != filas2 or columnas != columnas2:\n",
        "        print('No es posible realizar la suma')\n",
        "    else:\n",
        "        matriz1 = generar_matriz1(filas, columnas)\n",
        "        matriz2 = generar_matriz2(filas2, columnas2)\n",
        "        resultado = suma_matrix(matriz1, matriz2)\n",
        "        if resultado is not None:\n",
        "            print('La suma de las matrices es:')\n",
        "            imprimir_matriz(resultado)\n",
        "        else:\n",
        "            print('No es posible realizar la suma')\n"
      ]
    },
    {
      "cell_type": "markdown",
      "source": [
        "#Producto de matrices"
      ],
      "metadata": {
        "id": "Mzs4wCo14dgH"
      }
    },
    {
      "cell_type": "code",
      "source": [
        "def generar_matriz1(filas, columnas): # Generar las dos matrices con los datos del usuario\n",
        "    matriz = []\n",
        "    for i in range(filas):\n",
        "        matriz.append([])\n",
        "        for j in range(columnas):\n",
        "            datos = float(input('fila ' + str(i+1) + ', columna ' + str(j+1) + ': '))\n",
        "            matriz[i].append(datos)\n",
        "    return matriz\n",
        "\n",
        "def generar_matriz2(filas2, columnas2):\n",
        "    matriz = []\n",
        "    for i in range(filas2):\n",
        "        matriz.append([])\n",
        "        for j in range(columnas2):\n",
        "            datos = float(input('fila ' + str(i+1) + ', columna ' + str(j+1) + ': '))\n",
        "            matriz[i].append(datos)\n",
        "    return matriz\n",
        "\n",
        "\n",
        "def multi(m1, m2):\n",
        "    if len(m1[0]) == len(m2): # Verificar si las columnas de la primera son iguales a las filas de la segunda\n",
        "        m3 = [] # Generar lista vacía\n",
        "        for i in range(len(m1)):\n",
        "            m3.append([])\n",
        "            for j in range(len(m2[0])):\n",
        "                m3[i].append(0)\n",
        "\n",
        "        for i in range(len(m1)): # Calcular los resultados para llenar la matriz\n",
        "            for j in range(len(m2[0])):\n",
        "                for _ in range(len(m1[0])): # Recorremos los índices de ambas matrices\n",
        "                    m3[i][j] += m1[i][_] * m2[_][j]\n",
        "\n",
        "        return m3\n",
        "    else:\n",
        "        return None\n",
        "\n",
        "def imprimir_matriz(matriz):\n",
        "    for fila in matriz:\n",
        "        fila_ = '['\n",
        "        for elemento in fila:\n",
        "            fila_ += str(elemento) + ' '\n",
        "        fila_ += ']'\n",
        "        print(fila_)\n",
        "\n",
        "if __name__ == '__main__':\n",
        "    filas = int(input('Ingrese el número de filas de la 1era matriz: ')) # Pedimos los valores al usuario\n",
        "    columnas = int(input('Ingrese el número de columnas de la 1era matriz: '))\n",
        "\n",
        "    filas2 = int(input('Ingrese el número de filas de la 2da matriz: '))\n",
        "    columnas2 = int(input('Ingrese el número de columnas de la 2da matriz: '))\n",
        "\n",
        "    if columnas != filas2:\n",
        "        print('No es posible realizar la operación')\n",
        "    else:\n",
        "        matriz1 = generar_matriz1(filas, columnas)\n",
        "        matriz2 = generar_matriz2(filas2, columnas2)\n",
        "        resultado = multi(matriz1, matriz2)\n",
        "\n",
        "        if resultado is not None:\n",
        "            print('La multiplicación de las matrices es:')\n",
        "            imprimir_matriz(resultado)\n",
        "        else:\n",
        "            print('No es posible realizar la operación')\n"
      ],
      "metadata": {
        "colab": {
          "base_uri": "https://localhost:8080/"
        },
        "id": "CuUSReDF4fqM",
        "outputId": "3bde96cc-4b23-418b-abfd-fbbc6a772a71"
      },
      "execution_count": null,
      "outputs": [
        {
          "name": "stdout",
          "output_type": "stream",
          "text": [
            "Ingrese el número de filas de la 1era matriz: 2\n",
            "Ingrese el número de columnas de la 1era matriz: 2\n",
            "Ingrese el número de filas de la 2da matriz: 2\n",
            "Ingrese el número de columnas de la 2da matriz: 2\n",
            "fila 1, columna 1: 1\n"
          ]
        }
      ]
    },
    {
      "cell_type": "markdown",
      "source": [
        "# Matriz traspuesta"
      ],
      "metadata": {
        "id": "8YN69KpskmPU"
      }
    },
    {
      "cell_type": "code",
      "source": [
        "def generar_matriz1(filas, columnas):  # Generar la matriz con los datos del usuario\n",
        "    matriz = []\n",
        "    for i in range(filas):\n",
        "        matriz.append([])\n",
        "        for j in range(columnas):\n",
        "            datos = float(input('Fila ' + str(i+1) + ', columna ' + str(j+1) + ': '))\n",
        "            matriz[i].append(datos)\n",
        "    return matriz\n",
        "\n",
        "def trasponer_matriz(matriz):  # Función para trasponer la matriz\n",
        "    traspuesta = []\n",
        "    for i in range(len(matriz[0])):  # El número de filas de la matriz traspuesta es igual al número de elementos de la primera fila de la matriz original\n",
        "        traspuesta.append([])\n",
        "        for j in range(len(matriz)):  # El número de elementos de cada fila de la matriz traspuesta va a ser igual al número de filas de la matriz original\n",
        "            traspuesta[i].append(matriz[j][i])\n",
        "    return traspuesta\n",
        "\n",
        "def mostrar_matriz(matriz):  # Función para mostrar la matriz\n",
        "    for fila in matriz:\n",
        "        print(fila)\n",
        "\n",
        "if __name__ == \"__main__\":\n",
        "    filas = int(input('Ingrese el número de filas de la matriz: '))  # Pedimos los valores al usuario\n",
        "    columnas = int(input('Ingrese el número de columnas de la matriz: '))\n",
        "\n",
        "    matriz = generar_matriz1(filas, columnas)  #mostrar la matriz original\n",
        "    print(\"\\nMatriz original:\")\n",
        "    mostrar_matriz(matriz)\n",
        "\n",
        "    matriz_traspuesta = trasponer_matriz(matriz)  # Trasponer y mostrar la matriz traspuesta\n",
        "    print(\"\\nMatriz traspuesta:\")\n",
        "    mostrar_matriz(matriz_traspuesta)\n",
        "\n",
        "\n",
        "\n",
        "\n"
      ],
      "metadata": {
        "colab": {
          "base_uri": "https://localhost:8080/"
        },
        "id": "1Xqx62U4kpzG",
        "outputId": "bbc8e7e1-fed2-4a35-f472-8b0b569697e8"
      },
      "execution_count": 1,
      "outputs": [
        {
          "output_type": "stream",
          "name": "stdout",
          "text": [
            "Ingrese el número de filas de la matriz: 1\n",
            "Ingrese el número de columnas de la matriz: 4\n",
            "Fila 1, columna 1: 2\n",
            "Fila 1, columna 2: 3\n",
            "Fila 1, columna 3: 4\n",
            "Fila 1, columna 4: 5\n",
            "\n",
            "Matriz original:\n",
            "[2.0, 3.0, 4.0, 5.0]\n",
            "\n",
            "Matriz traspuesta:\n",
            "[2.0]\n",
            "[3.0]\n",
            "[4.0]\n",
            "[5.0]\n"
          ]
        }
      ]
    },
    {
      "cell_type": "markdown",
      "source": [
        "#Sumar elementos de una columna"
      ],
      "metadata": {
        "id": "fd9qrCJRo51B"
      }
    },
    {
      "cell_type": "code",
      "source": [
        "def generar_matriz(filas, columnas):  # Generar la matriz con los datos del usuario\n",
        "    matriz = []\n",
        "    for i in range(filas):\n",
        "        matriz.append([])\n",
        "        for j in range(columnas):\n",
        "            datos = float(input('Fila ' + str(i+1) + ', columna ' + str(j+1) + ': '))\n",
        "            matriz[i].append(datos)\n",
        "    return matriz\n",
        "\n",
        "def sumar_columna(matriz, columna):\n",
        "    suma = 0\n",
        "    for fila in matriz:\n",
        "        suma += fila[columna] #se añade el valor del elemento en la posición columna de cada fila a la variable suma\n",
        "    return suma\n",
        "\n",
        "def mostrar_matriz(matriz):  # Mostrar la matriz\n",
        "    for fila in matriz:\n",
        "        print(fila)\n",
        "\n",
        "if __name__ == \"__main__\":\n",
        "    filas = int(input('Ingrese el número de filas de la matriz: '))  # Pedimos los valores al usuario\n",
        "    columnas = int(input('Ingrese el número de columnas de la matriz: '))\n",
        "\n",
        "    matriz = generar_matriz(filas, columnas)  #mostrar la matriz\n",
        "    print(\"\\nMatriz generada:\")\n",
        "    mostrar_matriz(matriz)\n",
        "\n",
        "    columna = int(input('\\nIngrese la columna que quiera sumar (empezando desde 0): '))\n",
        "    suma = sumar_columna(matriz, columna)  # Sumar y mostrar la suma de la columna\n",
        "    print(f\"La suma de la columna {columna} es: {suma}\")\n",
        "\n",
        "\n"
      ],
      "metadata": {
        "colab": {
          "base_uri": "https://localhost:8080/"
        },
        "id": "6icqlbVAo8Eq",
        "outputId": "dd625562-5404-4708-c52c-dff607fa7ffe"
      },
      "execution_count": 3,
      "outputs": [
        {
          "output_type": "stream",
          "name": "stdout",
          "text": [
            "Ingrese el número de filas de la matriz: 2\n",
            "Ingrese el número de columnas de la matriz: 2\n",
            "Fila 1, columna 1: 4\n",
            "Fila 1, columna 2: 4\n",
            "Fila 2, columna 1: 2\n",
            "Fila 2, columna 2: 5\n",
            "\n",
            "Matriz generada:\n",
            "[4.0, 4.0]\n",
            "[2.0, 5.0]\n",
            "\n",
            "Ingrese la columna que quiera sumar (empezando desde 0): 0\n",
            "La suma de la columna 0 es: 6.0\n"
          ]
        }
      ]
    },
    {
      "cell_type": "markdown",
      "source": [
        "# Sumar fila"
      ],
      "metadata": {
        "id": "LTKvtMhWtBMH"
      }
    },
    {
      "cell_type": "code",
      "source": [
        "def generar_matriz(filas, columnas):  # Generar la matriz con los datos del usuario\n",
        "    matriz = []\n",
        "    for i in range(filas):\n",
        "        matriz.append([])\n",
        "        for j in range(columnas):\n",
        "            datos = float(input('Fila ' + str(i+1) + ', columna ' + str(j+1) + ': '))\n",
        "            matriz[i].append(datos)\n",
        "    return matriz\n",
        "\n",
        "def sumar_fila(matriz, fila):\n",
        "    suma = 0\n",
        "    for elemento in matriz[fila]:\n",
        "        suma += elemento\n",
        "    return suma\n",
        "\n",
        "def mostrar_matriz(matriz):  # Mostrar la matriz\n",
        "    for fila in matriz:\n",
        "        print(fila)\n",
        "\n",
        "def main():\n",
        "    filas = int(input('Ingrese el número de filas de la matriz: '))  # Pedimos los valores al usuario\n",
        "    columnas = int(input('Ingrese el número de columnas de la matriz: '))\n",
        "\n",
        "    matriz = generar_matriz(filas, columnas)  #mostrar la matriz\n",
        "    print(\"\\nMatriz generada:\")\n",
        "    mostrar_matriz(matriz)\n",
        "\n",
        "    fila = int(input('\\nIngrese el número de la fila a sumar (empezando desde 0): '))\n",
        "    suma = sumar_fila(matriz, fila)  # Sumar y mostrar la suma de la fila\n",
        "    print(f\"\\nLa suma de los elementos de la fila {fila} es: {suma}\")\n",
        "\n",
        "if __name__ == \"__main__\":\n",
        "    main()\n"
      ],
      "metadata": {
        "colab": {
          "base_uri": "https://localhost:8080/"
        },
        "id": "Lj4BsR0qtKK_",
        "outputId": "cd34f800-91ae-4ed3-f0cf-e9fa4c6f7cc3"
      },
      "execution_count": 5,
      "outputs": [
        {
          "output_type": "stream",
          "name": "stdout",
          "text": [
            "Ingrese el número de filas de la matriz: 4\n",
            "Ingrese el número de columnas de la matriz: 2\n",
            "Fila 1, columna 1: 1\n",
            "Fila 1, columna 2: 2\n",
            "Fila 2, columna 1: 3\n",
            "Fila 2, columna 2: 4\n",
            "Fila 3, columna 1: 5\n",
            "Fila 3, columna 2: 6\n",
            "Fila 4, columna 1: 7\n",
            "Fila 4, columna 2: 8\n",
            "\n",
            "Matriz generada:\n",
            "[1.0, 2.0]\n",
            "[3.0, 4.0]\n",
            "[5.0, 6.0]\n",
            "[7.0, 8.0]\n",
            "\n",
            "Ingrese el número de la fila a sumar (empezando desde 0): 0\n",
            "\n",
            "La suma de los elementos de la fila 0 es: 3.0\n"
          ]
        }
      ]
    }
  ]
}